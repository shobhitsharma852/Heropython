{
 "cells": [
  {
   "cell_type": "markdown",
   "id": "4580b65d-ba60-469c-b172-03933dc46b3e",
   "metadata": {},
   "source": [
    "# I"
   ]
  },
  {
   "cell_type": "markdown",
   "id": "85f19bf4-c52b-464f-873b-48ebe2003678",
   "metadata": {},
   "source": [
    "# LOVE"
   ]
  },
  {
   "cell_type": "markdown",
   "id": "a6ca776b-70ad-4735-b9fb-097f1da48189",
   "metadata": {},
   "source": [
    "# Ram"
   ]
  },
  {
   "cell_type": "code",
   "execution_count": 11,
   "id": "6c550905-9b88-4d07-976d-11f93484e947",
   "metadata": {},
   "outputs": [],
   "source": [
    "r=2"
   ]
  },
  {
   "cell_type": "code",
   "execution_count": 15,
   "id": "0bc40c9f-25fa-4933-8419-a3f999916384",
   "metadata": {},
   "outputs": [],
   "source": [
    "area=3.14*r*r"
   ]
  },
  {
   "cell_type": "code",
   "execution_count": 17,
   "id": "71b79850-a9fe-44a0-960f-9c4fdf03edf5",
   "metadata": {},
   "outputs": [
    {
     "name": "stdout",
     "output_type": "stream",
     "text": [
      "12.56\n"
     ]
    }
   ],
   "source": [
    "print(area)"
   ]
  },
  {
   "cell_type": "code",
   "execution_count": 23,
   "id": "b8299657-ab88-4c73-9814-84c56dc7da8c",
   "metadata": {},
   "outputs": [],
   "source": [
    "#We can use ** (3.14*r**2)"
   ]
  },
  {
   "cell_type": "markdown",
   "id": "b1e87a69-dece-4576-a23b-f131f8d2a011",
   "metadata": {},
   "source": [
    "### First code written baby"
   ]
  },
  {
   "cell_type": "code",
   "execution_count": 27,
   "id": "2926300d-ad85-4e37-9832-edf204bb68bf",
   "metadata": {},
   "outputs": [],
   "source": [
    "l=[1,2.5,3,'shobhit',True,[1,2,3]]"
   ]
  },
  {
   "cell_type": "code",
   "execution_count": 29,
   "id": "aff97924-5baf-40ae-b442-d13476605497",
   "metadata": {},
   "outputs": [
    {
     "data": {
      "text/plain": [
       "3"
      ]
     },
     "execution_count": 29,
     "metadata": {},
     "output_type": "execute_result"
    }
   ],
   "source": [
    "l[-1][2]"
   ]
  },
  {
   "cell_type": "code",
   "execution_count": 31,
   "id": "2a2c5ec4-1371-4ca1-b4c3-625ef00369a2",
   "metadata": {},
   "outputs": [
    {
     "data": {
      "text/plain": [
       "True"
      ]
     },
     "execution_count": 31,
     "metadata": {},
     "output_type": "execute_result"
    }
   ],
   "source": [
    "l[-2]"
   ]
  },
  {
   "cell_type": "code",
   "execution_count": 33,
   "id": "cc846cd4-59a2-48ca-b7c1-0d9715b04133",
   "metadata": {},
   "outputs": [
    {
     "data": {
      "text/plain": [
       "3"
      ]
     },
     "execution_count": 33,
     "metadata": {},
     "output_type": "execute_result"
    }
   ],
   "source": [
    "l[-1][-1]"
   ]
  },
  {
   "cell_type": "markdown",
   "id": "cdb9502a-2760-46d0-a1ac-5de24fbd0e6c",
   "metadata": {},
   "source": [
    "# Euclidean Distance, (1,2) and (5,9)"
   ]
  },
  {
   "cell_type": "code",
   "execution_count": 2,
   "id": "ade688b5-f284-4955-ac29-4b9c41b48129",
   "metadata": {},
   "outputs": [],
   "source": [
    "x1 = 1"
   ]
  },
  {
   "cell_type": "code",
   "execution_count": 4,
   "id": "bfd83fec-b45b-4bbe-abbc-67a1db19374f",
   "metadata": {},
   "outputs": [],
   "source": [
    "x2 = 5"
   ]
  },
  {
   "cell_type": "code",
   "execution_count": 6,
   "id": "1a53ba5b-af2e-48ff-87ec-3013121c4a7f",
   "metadata": {},
   "outputs": [],
   "source": [
    "y1 = 2"
   ]
  },
  {
   "cell_type": "code",
   "execution_count": 8,
   "id": "3b4386e7-a0d8-4524-bf0e-295cfdff786e",
   "metadata": {},
   "outputs": [],
   "source": [
    "y2 = 9 "
   ]
  },
  {
   "cell_type": "code",
   "execution_count": 46,
   "id": "efe7b6a5-ba34-46f3-92fc-a88ba77946fb",
   "metadata": {},
   "outputs": [],
   "source": [
    "d = round(((x2-x1)**2 + (y2-y1)**2)**0.5)"
   ]
  },
  {
   "cell_type": "code",
   "execution_count": 48,
   "id": "75b2dea4-36cc-444a-9480-b0c2ec31ceeb",
   "metadata": {},
   "outputs": [
    {
     "name": "stdout",
     "output_type": "stream",
     "text": [
      "8\n"
     ]
    }
   ],
   "source": [
    "print(d)"
   ]
  },
  {
   "cell_type": "code",
   "execution_count": 52,
   "id": "5349e4eb-fd08-423f-994f-29aef42ac451",
   "metadata": {},
   "outputs": [],
   "source": [
    "l=[1,2,5,7,8,'sumit',True, [2,7,8,9,'sumit shukla']]"
   ]
  },
  {
   "cell_type": "code",
   "execution_count": 54,
   "id": "79f19d66-e0b6-4408-a11b-30bd14cdaaf4",
   "metadata": {},
   "outputs": [
    {
     "data": {
      "text/plain": [
       "['sumit shukla', 9, 8, 7]"
      ]
     },
     "execution_count": 54,
     "metadata": {},
     "output_type": "execute_result"
    }
   ],
   "source": [
    "l[-1][-1:-5:-1]"
   ]
  },
  {
   "cell_type": "code",
   "execution_count": 56,
   "id": "e23d45e1-a729-4e24-8a19-2535f53723cb",
   "metadata": {},
   "outputs": [
    {
     "data": {
      "text/plain": [
       "[8, 5, 1]"
      ]
     },
     "execution_count": 56,
     "metadata": {},
     "output_type": "execute_result"
    }
   ],
   "source": [
    "l[-4::-2]"
   ]
  },
  {
   "cell_type": "code",
   "execution_count": 58,
   "id": "afe09f5d-b566-4196-b2c4-f5ead6c5b049",
   "metadata": {},
   "outputs": [
    {
     "data": {
      "text/plain": [
       "['sumit', True]"
      ]
     },
     "execution_count": 58,
     "metadata": {},
     "output_type": "execute_result"
    }
   ],
   "source": [
    "l[5:7]"
   ]
  },
  {
   "cell_type": "code",
   "execution_count": 60,
   "id": "e0d88aad-b0a3-4d36-92a1-f4dd26640ce4",
   "metadata": {},
   "outputs": [
    {
     "data": {
      "text/plain": [
       "[2, 7, 'sumit', [2, 7, 8, 9, 'sumit shukla']]"
      ]
     },
     "execution_count": 60,
     "metadata": {},
     "output_type": "execute_result"
    }
   ],
   "source": [
    "l[1::2]"
   ]
  },
  {
   "cell_type": "code",
   "execution_count": 62,
   "id": "6d29b87f-85b1-476e-83e7-1334dde76378",
   "metadata": {},
   "outputs": [
    {
     "data": {
      "text/plain": [
       "[7, [2, 7, 8, 9, 'sumit shukla']]"
      ]
     },
     "execution_count": 62,
     "metadata": {},
     "output_type": "execute_result"
    }
   ],
   "source": [
    "l[1::2][1::2]"
   ]
  },
  {
   "cell_type": "code",
   "execution_count": 64,
   "id": "7a79460c-57a9-4af0-a9f7-e52b5dff505c",
   "metadata": {},
   "outputs": [],
   "source": [
    "#append, insert, extend"
   ]
  },
  {
   "cell_type": "code",
   "execution_count": 66,
   "id": "568f9548-99e7-4caa-ab3a-cbb00c30de6e",
   "metadata": {},
   "outputs": [],
   "source": [
    "l=[1,2]"
   ]
  },
  {
   "cell_type": "code",
   "execution_count": 68,
   "id": "bdd96704-6c48-4fac-b399-eaee68ae1be7",
   "metadata": {},
   "outputs": [],
   "source": [
    "l1=[3,4]"
   ]
  },
  {
   "cell_type": "code",
   "execution_count": 70,
   "id": "3e73e4fe-d98c-48ac-896d-3e184a085dc0",
   "metadata": {},
   "outputs": [],
   "source": [
    "l.append(l1)"
   ]
  },
  {
   "cell_type": "code",
   "execution_count": 72,
   "id": "50d0566e-1e76-4483-ae8f-fa475f9f8932",
   "metadata": {},
   "outputs": [
    {
     "data": {
      "text/plain": [
       "[1, 2, [3, 4]]"
      ]
     },
     "execution_count": 72,
     "metadata": {},
     "output_type": "execute_result"
    }
   ],
   "source": [
    "l"
   ]
  },
  {
   "cell_type": "code",
   "execution_count": 74,
   "id": "707287d6-f218-4a13-83e2-db477270a2a7",
   "metadata": {},
   "outputs": [],
   "source": [
    "l.extend(l1)"
   ]
  },
  {
   "cell_type": "code",
   "execution_count": 76,
   "id": "92bdc83c-2a00-40dc-b61f-27f8c7c20b56",
   "metadata": {},
   "outputs": [
    {
     "data": {
      "text/plain": [
       "[1, 2, [3, 4], 3, 4]"
      ]
     },
     "execution_count": 76,
     "metadata": {},
     "output_type": "execute_result"
    }
   ],
   "source": [
    "l"
   ]
  },
  {
   "cell_type": "markdown",
   "id": "0e086cca-fbc3-42aa-95c9-80c4c3b9d82d",
   "metadata": {},
   "source": [
    "#### Got to know the difference between append and extend"
   ]
  },
  {
   "cell_type": "code",
   "execution_count": 3,
   "id": "04226bcc-605e-40a3-92bf-d24090f4a3f0",
   "metadata": {},
   "outputs": [],
   "source": [
    "# A. ADD NEW ELEMENT\n",
    "      #1. Append\n",
    "      #2. Insert\n",
    "      #3. Extend\n",
    "# B. Delete the element in List\n",
    "      #1. Remove\n",
    "      #2. Pop\n",
    "      #3. Del\n",
    "# C. Replace the element from list"
   ]
  },
  {
   "cell_type": "code",
   "execution_count": 5,
   "id": "ac96a1c9-20d6-4325-a47c-6940184e5d14",
   "metadata": {},
   "outputs": [],
   "source": [
    "l=['shobhit', 1,2,3,'sharma']"
   ]
  },
  {
   "cell_type": "code",
   "execution_count": 12,
   "id": "4f431ef5-8f99-4287-a077-e403a20ca886",
   "metadata": {},
   "outputs": [
    {
     "data": {
      "text/plain": [
       "'shobhit'"
      ]
     },
     "execution_count": 12,
     "metadata": {},
     "output_type": "execute_result"
    }
   ],
   "source": [
    "l[-2]"
   ]
  },
  {
   "cell_type": "code",
   "execution_count": 14,
   "id": "5bb4784c-73a8-4c80-b0f8-591feb464a10",
   "metadata": {},
   "outputs": [
    {
     "data": {
      "text/plain": [
       "['shobhit', 1, 2, 'shobhit', 'sharma']"
      ]
     },
     "execution_count": 14,
     "metadata": {},
     "output_type": "execute_result"
    }
   ],
   "source": [
    "l"
   ]
  },
  {
   "cell_type": "code",
   "execution_count": 18,
   "id": "801cf69e-4d9b-428d-abdd-d089a67a4e39",
   "metadata": {},
   "outputs": [],
   "source": [
    "l[2]='Rashmi'"
   ]
  },
  {
   "cell_type": "code",
   "execution_count": 20,
   "id": "7f2ae1d2-82f0-4f1c-b024-a4b4af3196ba",
   "metadata": {},
   "outputs": [
    {
     "data": {
      "text/plain": [
       "['shobhit', 1, 'Rashmi', 'shobhit', 'sharma']"
      ]
     },
     "execution_count": 20,
     "metadata": {},
     "output_type": "execute_result"
    }
   ],
   "source": [
    "l"
   ]
  },
  {
   "cell_type": "code",
   "execution_count": 24,
   "id": "0228c88a-75ea-4a70-9080-8bce32f60fa4",
   "metadata": {},
   "outputs": [],
   "source": [
    "l[1]='loves'"
   ]
  },
  {
   "cell_type": "code",
   "execution_count": 26,
   "id": "44b3e36f-350e-49c1-99f1-a7a4e581a04e",
   "metadata": {},
   "outputs": [
    {
     "data": {
      "text/plain": [
       "['shobhit', 'loves', 'Rashmi', 'shobhit', 'sharma']"
      ]
     },
     "execution_count": 26,
     "metadata": {},
     "output_type": "execute_result"
    }
   ],
   "source": [
    "l"
   ]
  },
  {
   "cell_type": "code",
   "execution_count": 28,
   "id": "9b87e845-afde-47c6-a618-0a20043d9619",
   "metadata": {
    "scrolled": true
   },
   "outputs": [],
   "source": [
    "l.append('loves')"
   ]
  },
  {
   "cell_type": "code",
   "execution_count": 30,
   "id": "e4b2f934-0d42-4961-ac1f-7240e4dc52d7",
   "metadata": {},
   "outputs": [
    {
     "data": {
      "text/plain": [
       "['shobhit', 'loves', 'Rashmi', 'shobhit', 'sharma', 'loves']"
      ]
     },
     "execution_count": 30,
     "metadata": {},
     "output_type": "execute_result"
    }
   ],
   "source": [
    "l"
   ]
  },
  {
   "cell_type": "code",
   "execution_count": 34,
   "id": "47d05a12-acbe-47bf-a161-5d09ed0ea566",
   "metadata": {},
   "outputs": [],
   "source": [
    "l1=['rashmi','sharma']"
   ]
  },
  {
   "cell_type": "code",
   "execution_count": 38,
   "id": "a8205bee-5147-45b0-92db-cb3a74753011",
   "metadata": {},
   "outputs": [],
   "source": [
    "l.extend(l1)"
   ]
  },
  {
   "cell_type": "code",
   "execution_count": 40,
   "id": "7bd68971-296c-462a-9a25-ef64a3aa4b3e",
   "metadata": {},
   "outputs": [
    {
     "data": {
      "text/plain": [
       "['shobhit',\n",
       " 'loves',\n",
       " 'Rashmi',\n",
       " 'shobhit',\n",
       " 'sharma',\n",
       " 'loves',\n",
       " 'rashmi',\n",
       " 'sharma']"
      ]
     },
     "execution_count": 40,
     "metadata": {},
     "output_type": "execute_result"
    }
   ],
   "source": [
    "l"
   ]
  },
  {
   "cell_type": "code",
   "execution_count": 42,
   "id": "d8ada900-93dd-411a-a346-e173ae6b56e2",
   "metadata": {},
   "outputs": [
    {
     "name": "stdout",
     "output_type": "stream",
     "text": [
      "['shobhit', 'loves', 'Rashmi', 'shobhit', 'sharma', 'loves', 'rashmi', 'sharma']\n"
     ]
    }
   ],
   "source": [
    "print(l)"
   ]
  },
  {
   "cell_type": "code",
   "execution_count": 44,
   "id": "3b6fc50b-84ed-41ab-a655-8768192f3fba",
   "metadata": {},
   "outputs": [],
   "source": [
    "l=[1,8,6,7,2]"
   ]
  },
  {
   "cell_type": "code",
   "execution_count": 46,
   "id": "490183fd-85c4-41a8-a05c-9b163ce96cb3",
   "metadata": {},
   "outputs": [],
   "source": [
    "l.sort()"
   ]
  },
  {
   "cell_type": "code",
   "execution_count": 48,
   "id": "f82c0e51-9ac5-407d-b2c0-677569470d13",
   "metadata": {},
   "outputs": [
    {
     "data": {
      "text/plain": [
       "[1, 2, 6, 7, 8]"
      ]
     },
     "execution_count": 48,
     "metadata": {},
     "output_type": "execute_result"
    }
   ],
   "source": [
    "l"
   ]
  },
  {
   "cell_type": "code",
   "execution_count": 1,
   "id": "19717a94-902f-481d-9d5c-3f8c9d3dd75f",
   "metadata": {},
   "outputs": [],
   "source": [
    "l=[1,2,3,[4,5],[6,7],8,9]"
   ]
  },
  {
   "cell_type": "code",
   "execution_count": 9,
   "id": "0c891260-9e80-48ec-9ccb-f047b51428d5",
   "metadata": {},
   "outputs": [],
   "source": [
    "l[1]='two'"
   ]
  },
  {
   "cell_type": "code",
   "execution_count": 11,
   "id": "cf7f741b-1d01-41fe-9404-f9994ea0b8f3",
   "metadata": {
    "scrolled": true
   },
   "outputs": [],
   "source": [
    "l[5]= 'Eight'"
   ]
  },
  {
   "cell_type": "code",
   "execution_count": 13,
   "id": "8504513a-8d89-462e-a4d9-26e2980b2bb1",
   "metadata": {},
   "outputs": [
    {
     "data": {
      "text/plain": [
       "[1, 'two', 3, [4, 5], [6, 7], 'Eight', 9]"
      ]
     },
     "execution_count": 13,
     "metadata": {},
     "output_type": "execute_result"
    }
   ],
   "source": [
    "l"
   ]
  },
  {
   "cell_type": "code",
   "execution_count": 15,
   "id": "336d2ed3-0b95-4526-86d6-c64c9db06727",
   "metadata": {},
   "outputs": [],
   "source": [
    "# If we want a one line code then"
   ]
  },
  {
   "cell_type": "code",
   "execution_count": 21,
   "id": "c00ca0ff-3a37-47a7-849e-ae853ed335d4",
   "metadata": {},
   "outputs": [],
   "source": [
    "l[1:6:4]=2, 8"
   ]
  },
  {
   "cell_type": "code",
   "execution_count": 23,
   "id": "1b497261-16c4-4258-989a-940bceea8149",
   "metadata": {},
   "outputs": [
    {
     "data": {
      "text/plain": [
       "[1, 2, 3, [4, 5], [6, 7], 8, 9]"
      ]
     },
     "execution_count": 23,
     "metadata": {},
     "output_type": "execute_result"
    }
   ],
   "source": [
    "l"
   ]
  },
  {
   "cell_type": "code",
   "execution_count": 25,
   "id": "53c3bc2a-4ae6-40c3-90b3-e7c20633ad2b",
   "metadata": {},
   "outputs": [],
   "source": [
    "l=[1,2,3,[4,5],[6,7]]"
   ]
  },
  {
   "cell_type": "code",
   "execution_count": 53,
   "id": "654f1085-3709-4758-9b64-59ee20456160",
   "metadata": {},
   "outputs": [],
   "source": [
    "del l[3]"
   ]
  },
  {
   "cell_type": "code",
   "execution_count": 55,
   "id": "90e0569b-3af9-4fb8-8263-522b9ef6d307",
   "metadata": {},
   "outputs": [
    {
     "data": {
      "text/plain": [
       "[1, 2, 3, [6, 7]]"
      ]
     },
     "execution_count": 55,
     "metadata": {},
     "output_type": "execute_result"
    }
   ],
   "source": [
    "l"
   ]
  },
  {
   "cell_type": "code",
   "execution_count": 57,
   "id": "7ae3d399-5dde-45e1-aeaf-681a6300b55d",
   "metadata": {},
   "outputs": [],
   "source": [
    "del l[3]"
   ]
  },
  {
   "cell_type": "code",
   "execution_count": 59,
   "id": "6885a1a9-2029-4715-b735-83118437c2a9",
   "metadata": {},
   "outputs": [
    {
     "data": {
      "text/plain": [
       "[1, 2, 3]"
      ]
     },
     "execution_count": 59,
     "metadata": {},
     "output_type": "execute_result"
    }
   ],
   "source": [
    "l"
   ]
  },
  {
   "cell_type": "code",
   "execution_count": 74,
   "id": "6e08bae8-6135-4348-9b17-c3051f20b632",
   "metadata": {},
   "outputs": [],
   "source": [
    "l.append(4)"
   ]
  },
  {
   "cell_type": "code",
   "execution_count": 76,
   "id": "284892bb-4ba6-4d85-a399-367db5805acb",
   "metadata": {},
   "outputs": [
    {
     "data": {
      "text/plain": [
       "[1, 2, 3, 4]"
      ]
     },
     "execution_count": 76,
     "metadata": {},
     "output_type": "execute_result"
    }
   ],
   "source": [
    "l"
   ]
  },
  {
   "cell_type": "code",
   "execution_count": 82,
   "id": "fe95b12c-027c-4c8e-ad11-45b593ed81f2",
   "metadata": {},
   "outputs": [],
   "source": [
    "l1=[5,6,7]"
   ]
  },
  {
   "cell_type": "code",
   "execution_count": 84,
   "id": "a6afb920-5f98-45c9-9e8f-93d945b0abc8",
   "metadata": {},
   "outputs": [],
   "source": [
    "l.extend(l1)"
   ]
  },
  {
   "cell_type": "code",
   "execution_count": 86,
   "id": "c1f957fe-8bb5-4651-a4de-f7a15967b11e",
   "metadata": {},
   "outputs": [
    {
     "data": {
      "text/plain": [
       "[1, 2, 3, 4, 5, 6, 7]"
      ]
     },
     "execution_count": 86,
     "metadata": {},
     "output_type": "execute_result"
    }
   ],
   "source": [
    "l"
   ]
  },
  {
   "cell_type": "code",
   "execution_count": 88,
   "id": "8639c45a-e1f4-4531-9d29-90a7f8463d3c",
   "metadata": {},
   "outputs": [
    {
     "name": "stdin",
     "output_type": "stream",
     "text": [
      " 5\n"
     ]
    }
   ],
   "source": [
    "a=input()"
   ]
  },
  {
   "cell_type": "code",
   "execution_count": 90,
   "id": "64c8c030-606f-4dab-88d1-420575c066fd",
   "metadata": {},
   "outputs": [
    {
     "data": {
      "text/plain": [
       "'5'"
      ]
     },
     "execution_count": 90,
     "metadata": {},
     "output_type": "execute_result"
    }
   ],
   "source": [
    "a"
   ]
  },
  {
   "cell_type": "markdown",
   "id": "c3675913-c8c2-4283-9fdd-2e19149dba76",
   "metadata": {},
   "source": [
    "##### a=int(input())"
   ]
  },
  {
   "cell_type": "code",
   "execution_count": 94,
   "id": "b1d410e1-787b-4c86-a46d-db1a0c800fa5",
   "metadata": {},
   "outputs": [
    {
     "data": {
      "text/plain": [
       "5"
      ]
     },
     "execution_count": 94,
     "metadata": {},
     "output_type": "execute_result"
    }
   ],
   "source": [
    "a"
   ]
  },
  {
   "cell_type": "code",
   "execution_count": 117,
   "id": "b9168d3e-b682-4b7d-b812-17d39a26698a",
   "metadata": {},
   "outputs": [
    {
     "name": "stdin",
     "output_type": "stream",
     "text": [
      " 6.55555555555555\n"
     ]
    }
   ],
   "source": [
    "b=float(input())"
   ]
  },
  {
   "cell_type": "code",
   "execution_count": 119,
   "id": "fc99b93d-7b5e-4032-ba6e-a28b6f1fbcb1",
   "metadata": {},
   "outputs": [
    {
     "data": {
      "text/plain": [
       "6.55555555555555"
      ]
     },
     "execution_count": 119,
     "metadata": {},
     "output_type": "execute_result"
    }
   ],
   "source": [
    "b"
   ]
  },
  {
   "cell_type": "code",
   "execution_count": 121,
   "id": "c9715f34-e5db-4fe7-9965-d6c9493d2423",
   "metadata": {},
   "outputs": [],
   "source": [
    "c=a+b"
   ]
  },
  {
   "cell_type": "code",
   "execution_count": 125,
   "id": "1f9119d1-78e5-4577-b4a9-ea55e818e8c9",
   "metadata": {},
   "outputs": [
    {
     "data": {
      "text/plain": [
       "12.11"
      ]
     },
     "execution_count": 125,
     "metadata": {},
     "output_type": "execute_result"
    }
   ],
   "source": [
    "round(c,2)"
   ]
  },
  {
   "cell_type": "markdown",
   "id": "250fc654-94f7-4728-9c8f-1baabea4557d",
   "metadata": {},
   "source": [
    "## Dictionary"
   ]
  },
  {
   "cell_type": "code",
   "execution_count": 11,
   "id": "4f0d6863-6f07-409f-b86d-4b326f293c6b",
   "metadata": {},
   "outputs": [],
   "source": [
    "d={\"r\":\"rashmi\", \"s\":\"shobhit\", \"g\":\"gayatri\"}"
   ]
  },
  {
   "cell_type": "code",
   "execution_count": 13,
   "id": "a3061b62-0da9-47ba-8f27-ea28f7e3c0f4",
   "metadata": {},
   "outputs": [
    {
     "data": {
      "text/plain": [
       "dict"
      ]
     },
     "execution_count": 13,
     "metadata": {},
     "output_type": "execute_result"
    }
   ],
   "source": [
    "type(d)"
   ]
  },
  {
   "cell_type": "code",
   "execution_count": 15,
   "id": "7c859464-1a17-4892-8c99-2b4a74d01e30",
   "metadata": {},
   "outputs": [
    {
     "data": {
      "text/plain": [
       "'rashmi'"
      ]
     },
     "execution_count": 15,
     "metadata": {},
     "output_type": "execute_result"
    }
   ],
   "source": [
    "d.get('r', \"na\")"
   ]
  },
  {
   "cell_type": "markdown",
   "id": "7bd324bf-bdef-4b2a-a187-b40b20e44613",
   "metadata": {},
   "source": [
    "### Add"
   ]
  },
  {
   "cell_type": "code",
   "execution_count": 17,
   "id": "28753469-d0f1-40b3-abfa-b54f1d271aba",
   "metadata": {},
   "outputs": [],
   "source": [
    "d['k']='krishna'"
   ]
  },
  {
   "cell_type": "code",
   "execution_count": 19,
   "id": "bae24c0e-ecb4-4c15-bd4c-a0d24491423f",
   "metadata": {},
   "outputs": [
    {
     "data": {
      "text/plain": [
       "{'r': 'rashmi', 's': 'shobhit', 'g': 'gayatri', 'k': 'krishna'}"
      ]
     },
     "execution_count": 19,
     "metadata": {},
     "output_type": "execute_result"
    }
   ],
   "source": [
    "d"
   ]
  },
  {
   "cell_type": "code",
   "execution_count": 22,
   "id": "ab4d4023-50ac-45bc-afc8-79c2926b0393",
   "metadata": {},
   "outputs": [
    {
     "data": {
      "text/plain": [
       "{'r': 'rashmi', 's': 'shobhit', 'g': 'gayatri', 'k': 'krishna'}"
      ]
     },
     "execution_count": 22,
     "metadata": {},
     "output_type": "execute_result"
    }
   ],
   "source": [
    "d"
   ]
  },
  {
   "cell_type": "markdown",
   "id": "702fb932-dd3f-4d16-822f-1c2e07c27348",
   "metadata": {},
   "source": [
    "#### Remove"
   ]
  },
  {
   "cell_type": "code",
   "execution_count": 26,
   "id": "cd6e60db-a7a1-47a5-8a2b-26cbadaeb944",
   "metadata": {},
   "outputs": [],
   "source": [
    "del d['r']"
   ]
  },
  {
   "cell_type": "code",
   "execution_count": 28,
   "id": "0e8e1f09-3db9-41d0-bf33-14fddaba22a1",
   "metadata": {},
   "outputs": [
    {
     "data": {
      "text/plain": [
       "{'s': 'shobhit', 'g': 'gayatri', 'k': 'krishna'}"
      ]
     },
     "execution_count": 28,
     "metadata": {},
     "output_type": "execute_result"
    }
   ],
   "source": [
    "d"
   ]
  },
  {
   "cell_type": "code",
   "execution_count": 32,
   "id": "6b579ea1-8111-4160-9738-3729e936210d",
   "metadata": {},
   "outputs": [
    {
     "data": {
      "text/plain": [
       "dict_keys(['s', 'g', 'k'])"
      ]
     },
     "execution_count": 32,
     "metadata": {},
     "output_type": "execute_result"
    }
   ],
   "source": [
    "d.keys()"
   ]
  },
  {
   "cell_type": "markdown",
   "id": "f30deadd-f5e4-4d55-84ee-4b865e507223",
   "metadata": {},
   "source": [
    "## Sets{}"
   ]
  },
  {
   "cell_type": "code",
   "execution_count": 1,
   "id": "ecfae28e-d0ed-4315-864a-dbcaff03bb39",
   "metadata": {},
   "outputs": [],
   "source": [
    "#unique and ordered data object."
   ]
  },
  {
   "cell_type": "code",
   "execution_count": 3,
   "id": "bca99a3d-5d4f-4312-892a-a1830334ebcc",
   "metadata": {},
   "outputs": [],
   "source": [
    "#operations in sets"
   ]
  },
  {
   "cell_type": "code",
   "execution_count": 5,
   "id": "5b034c88-a04f-4d30-8418-53de71cb7725",
   "metadata": {},
   "outputs": [],
   "source": [
    "#1.add"
   ]
  },
  {
   "cell_type": "code",
   "execution_count": 7,
   "id": "b5d3e2ca-7b9f-4b1a-b7a4-25cb2459aeda",
   "metadata": {},
   "outputs": [],
   "source": [
    "s={1,2,3,4,5,6,9}"
   ]
  },
  {
   "cell_type": "code",
   "execution_count": 9,
   "id": "39277a64-f4b3-44e6-b9a9-3f71e369a7e2",
   "metadata": {},
   "outputs": [],
   "source": [
    "s.add(8)"
   ]
  },
  {
   "cell_type": "code",
   "execution_count": 11,
   "id": "a2435f64-bdeb-4b9d-b4e7-9bfa87260d19",
   "metadata": {},
   "outputs": [
    {
     "data": {
      "text/plain": [
       "{1, 2, 3, 4, 5, 6, 8, 9}"
      ]
     },
     "execution_count": 11,
     "metadata": {},
     "output_type": "execute_result"
    }
   ],
   "source": [
    "s"
   ]
  },
  {
   "cell_type": "code",
   "execution_count": 13,
   "id": "545cd875-b789-4916-a40c-fd0ca929916e",
   "metadata": {},
   "outputs": [],
   "source": [
    "#while in list"
   ]
  },
  {
   "cell_type": "code",
   "execution_count": 19,
   "id": "d052ca1d-2644-45b8-ac2b-b1a376bc9f2c",
   "metadata": {},
   "outputs": [],
   "source": [
    "l=[1,2,3,4,5,6,9]"
   ]
  },
  {
   "cell_type": "code",
   "execution_count": 25,
   "id": "df070bc8-a7c8-4528-847c-3b8595c185cb",
   "metadata": {},
   "outputs": [],
   "source": [
    "l.append(8)"
   ]
  },
  {
   "cell_type": "code",
   "execution_count": 50,
   "id": "72693151-3bee-4cb2-89f6-a40875358f54",
   "metadata": {},
   "outputs": [
    {
     "data": {
      "text/plain": [
       "[1, 2, 3, 4, 5, 7, 7, 6, 7, 7, 9, 8]"
      ]
     },
     "execution_count": 50,
     "metadata": {},
     "output_type": "execute_result"
    }
   ],
   "source": [
    "l"
   ]
  },
  {
   "cell_type": "code",
   "execution_count": 52,
   "id": "21f37e67-ebd2-4208-9b6e-6b86d386d29a",
   "metadata": {},
   "outputs": [],
   "source": [
    "l=[1,2,3,4,5,8,9]"
   ]
  },
  {
   "cell_type": "code",
   "execution_count": 54,
   "id": "a1aaff99-ad55-44c1-917a-f25bd008fecc",
   "metadata": {},
   "outputs": [
    {
     "data": {
      "text/plain": [
       "[1, 2, 3, 4, 5, 8, 9]"
      ]
     },
     "execution_count": 54,
     "metadata": {},
     "output_type": "execute_result"
    }
   ],
   "source": [
    "l"
   ]
  },
  {
   "cell_type": "code",
   "execution_count": 62,
   "id": "4a6d0441-055f-433b-bbb1-205c29bc2373",
   "metadata": {},
   "outputs": [
    {
     "data": {
      "text/plain": [
       "[1, 2, 3, 4, 7, 5, 8, 9]"
      ]
     },
     "execution_count": 62,
     "metadata": {},
     "output_type": "execute_result"
    }
   ],
   "source": [
    "l"
   ]
  },
  {
   "cell_type": "code",
   "execution_count": 64,
   "id": "7d59c10b-d7c1-41e1-a7f5-52602cb92991",
   "metadata": {},
   "outputs": [],
   "source": [
    "l.insert(-2,7)"
   ]
  },
  {
   "cell_type": "code",
   "execution_count": 66,
   "id": "cde78ed5-4139-4108-999d-45dae02ffc65",
   "metadata": {},
   "outputs": [
    {
     "data": {
      "text/plain": [
       "[1, 2, 3, 4, 7, 5, 7, 8, 9]"
      ]
     },
     "execution_count": 66,
     "metadata": {},
     "output_type": "execute_result"
    }
   ],
   "source": [
    "l"
   ]
  },
  {
   "cell_type": "code",
   "execution_count": 68,
   "id": "14f6d769-2af4-4216-b428-1dc0f9c9df1e",
   "metadata": {},
   "outputs": [],
   "source": [
    "l.remove(4)"
   ]
  },
  {
   "cell_type": "code",
   "execution_count": 70,
   "id": "6e2ca0a2-12aa-4803-a9c8-778e50556f92",
   "metadata": {},
   "outputs": [
    {
     "data": {
      "text/plain": [
       "[1, 2, 3, 7, 5, 7, 8, 9]"
      ]
     },
     "execution_count": 70,
     "metadata": {},
     "output_type": "execute_result"
    }
   ],
   "source": [
    "l"
   ]
  },
  {
   "cell_type": "code",
   "execution_count": 76,
   "id": "81d16ca6-78d2-4f88-97f5-12d3fee1a669",
   "metadata": {},
   "outputs": [
    {
     "data": {
      "text/plain": [
       "7"
      ]
     },
     "execution_count": 76,
     "metadata": {},
     "output_type": "execute_result"
    }
   ],
   "source": [
    "l.pop(3)    #POP Takes index number"
   ]
  },
  {
   "cell_type": "code",
   "execution_count": 78,
   "id": "55d99cb4-9beb-4743-b7e4-37fb9858aa89",
   "metadata": {},
   "outputs": [
    {
     "data": {
      "text/plain": [
       "[1, 2, 3, 5, 7, 8, 9]"
      ]
     },
     "execution_count": 78,
     "metadata": {},
     "output_type": "execute_result"
    }
   ],
   "source": [
    "l"
   ]
  },
  {
   "cell_type": "code",
   "execution_count": 90,
   "id": "23044e2d-8892-4e1e-ac1e-42668ab71dbe",
   "metadata": {},
   "outputs": [
    {
     "data": {
      "text/plain": [
       "[1, 2, 3, 5, 7, 8, 9]"
      ]
     },
     "execution_count": 90,
     "metadata": {},
     "output_type": "execute_result"
    }
   ],
   "source": [
    "l"
   ]
  },
  {
   "cell_type": "code",
   "execution_count": 94,
   "id": "abcab591-1e7a-483e-a6ce-e00a9ec197bb",
   "metadata": {},
   "outputs": [],
   "source": [
    "del l[-2]"
   ]
  },
  {
   "cell_type": "code",
   "execution_count": 96,
   "id": "6d9c6ee8-55e7-45fd-ab4d-c10d6a90cf9d",
   "metadata": {},
   "outputs": [
    {
     "data": {
      "text/plain": [
       "[1, 2, 3, 5, 7, 9]"
      ]
     },
     "execution_count": 96,
     "metadata": {},
     "output_type": "execute_result"
    }
   ],
   "source": [
    "l"
   ]
  },
  {
   "cell_type": "code",
   "execution_count": 104,
   "id": "6e2a5496-6596-43e2-8b95-54d6045839fa",
   "metadata": {},
   "outputs": [],
   "source": [
    "l[3]=4  #replace"
   ]
  },
  {
   "cell_type": "code",
   "execution_count": 106,
   "id": "8b481b7d-1332-45c5-acde-6691a5777447",
   "metadata": {},
   "outputs": [
    {
     "data": {
      "text/plain": [
       "[1, 2, 3, 4, 7, 9]"
      ]
     },
     "execution_count": 106,
     "metadata": {},
     "output_type": "execute_result"
    }
   ],
   "source": [
    "l"
   ]
  },
  {
   "cell_type": "code",
   "execution_count": 114,
   "id": "9c483334-e4d8-4356-bf49-4a69eaa6bee1",
   "metadata": {},
   "outputs": [
    {
     "data": {
      "text/plain": [
       "[4, 7]"
      ]
     },
     "execution_count": 114,
     "metadata": {},
     "output_type": "execute_result"
    }
   ],
   "source": [
    "l[3:5:1]"
   ]
  },
  {
   "cell_type": "code",
   "execution_count": 2,
   "id": "865f0a3b-616e-4b4b-870f-daa63d700a04",
   "metadata": {},
   "outputs": [],
   "source": [
    "#2. Intersection"
   ]
  },
  {
   "cell_type": "code",
   "execution_count": 4,
   "id": "32c3d4f3-5cee-40f5-828a-57c42bb1ace4",
   "metadata": {},
   "outputs": [],
   "source": [
    "p={1,2,3,4,5,6,7}"
   ]
  },
  {
   "cell_type": "code",
   "execution_count": 6,
   "id": "7cc1968f-f265-43e1-a792-b468b2ab29a1",
   "metadata": {},
   "outputs": [],
   "source": [
    "q={8,9,10}"
   ]
  },
  {
   "cell_type": "code",
   "execution_count": 8,
   "id": "5206654e-c63f-4790-930c-24f6b29fc469",
   "metadata": {},
   "outputs": [
    {
     "data": {
      "text/plain": [
       "set()"
      ]
     },
     "execution_count": 8,
     "metadata": {},
     "output_type": "execute_result"
    }
   ],
   "source": [
    "p.intersection(q)  # because there is no common element between them"
   ]
  },
  {
   "cell_type": "code",
   "execution_count": 10,
   "id": "3cf3fe63-7695-4e0e-9286-36144bdbbf2e",
   "metadata": {},
   "outputs": [
    {
     "data": {
      "text/plain": [
       "{1, 2, 3, 4, 5, 6, 7, 8, 9, 10}"
      ]
     },
     "execution_count": 10,
     "metadata": {},
     "output_type": "execute_result"
    }
   ],
   "source": [
    "p.union(q)"
   ]
  },
  {
   "cell_type": "code",
   "execution_count": 12,
   "id": "851c1d89-cbd8-4f17-9bfb-3c7099a70e90",
   "metadata": {},
   "outputs": [
    {
     "data": {
      "text/plain": [
       "{1, 2, 3, 4, 5, 6, 7}"
      ]
     },
     "execution_count": 12,
     "metadata": {},
     "output_type": "execute_result"
    }
   ],
   "source": [
    "p-q"
   ]
  },
  {
   "cell_type": "code",
   "execution_count": 14,
   "id": "ac44305f-ed7f-4324-8146-380a6171fd85",
   "metadata": {},
   "outputs": [],
   "source": [
    "a={1,2,3,4,5,6,7}"
   ]
  },
  {
   "cell_type": "code",
   "execution_count": 16,
   "id": "e0216c46-d3a8-4b08-be63-f50351ff6f0f",
   "metadata": {},
   "outputs": [],
   "source": [
    "b={3,4,5}"
   ]
  },
  {
   "cell_type": "code",
   "execution_count": 18,
   "id": "e8a6146b-bf7f-41b6-822a-1057bd2537cc",
   "metadata": {},
   "outputs": [
    {
     "data": {
      "text/plain": [
       "{1, 2, 6, 7}"
      ]
     },
     "execution_count": 18,
     "metadata": {},
     "output_type": "execute_result"
    }
   ],
   "source": [
    "a-b"
   ]
  },
  {
   "cell_type": "code",
   "execution_count": 22,
   "id": "2c69e1b1-7c60-4129-b6f9-51e2c4ead223",
   "metadata": {},
   "outputs": [
    {
     "data": {
      "text/plain": [
       "set()"
      ]
     },
     "execution_count": 22,
     "metadata": {},
     "output_type": "execute_result"
    }
   ],
   "source": [
    "b-a "
   ]
  },
  {
   "cell_type": "code",
   "execution_count": 24,
   "id": "534c6cec-4147-47d1-aae9-5bcb04736df8",
   "metadata": {},
   "outputs": [],
   "source": [
    "# take input from user and check wheather it is palendrome or not."
   ]
  },
  {
   "cell_type": "code",
   "execution_count": 30,
   "id": "b2d55df7-ce02-464d-905d-53c78c6f6a0f",
   "metadata": {},
   "outputs": [
    {
     "name": "stdin",
     "output_type": "stream",
     "text": [
      " \"shobhit is love\"\n"
     ]
    }
   ],
   "source": [
    "s=input()"
   ]
  },
  {
   "cell_type": "code",
   "execution_count": 32,
   "id": "c9a15153-6a34-4ef0-805c-716beac2988d",
   "metadata": {},
   "outputs": [
    {
     "data": {
      "text/plain": [
       "False"
      ]
     },
     "execution_count": 32,
     "metadata": {},
     "output_type": "execute_result"
    }
   ],
   "source": [
    "s[0:]==s[-1::-1]"
   ]
  },
  {
   "cell_type": "code",
   "execution_count": 34,
   "id": "efcad4f3-6bb0-4ff8-a3c1-ca4094a3f554",
   "metadata": {},
   "outputs": [
    {
     "name": "stdin",
     "output_type": "stream",
     "text": [
      " \"noon\"\n"
     ]
    }
   ],
   "source": [
    "s=input()"
   ]
  },
  {
   "cell_type": "code",
   "execution_count": 44,
   "id": "ea6ed71c-1f90-4a5a-a09a-d5c59adec984",
   "metadata": {},
   "outputs": [
    {
     "data": {
      "text/plain": [
       "True"
      ]
     },
     "execution_count": 44,
     "metadata": {},
     "output_type": "execute_result"
    }
   ],
   "source": [
    "s[0:]==s[-1::-1]"
   ]
  },
  {
   "cell_type": "markdown",
   "id": "67aae281-722d-439c-a414-a9d14065e5b0",
   "metadata": {},
   "source": [
    "## Conditions in python"
   ]
  },
  {
   "cell_type": "code",
   "execution_count": 47,
   "id": "37f624bd-323b-4a8c-a9ba-66936043d952",
   "metadata": {},
   "outputs": [],
   "source": [
    "## IF ELSE ELIF"
   ]
  },
  {
   "cell_type": "code",
   "execution_count": 61,
   "id": "1c9b1893-9498-4183-af19-b7dc392a2f14",
   "metadata": {},
   "outputs": [
    {
     "name": "stdin",
     "output_type": "stream",
     "text": [
      "Marks of the student:   58\n"
     ]
    },
    {
     "name": "stdout",
     "output_type": "stream",
     "text": [
      "E\n"
     ]
    }
   ],
   "source": [
    "m = int(input(\"Marks of the student:  \")) ## here it is necessary to put the int because variable stores the int value.\n",
    "if m>=1 and m<=100:\n",
    "    if m<33:\n",
    "        print(\"F\")\n",
    "    elif m>=33 and m<58:\n",
    "        print(\"G\")\n",
    "    elif m>=58 and m<80:\n",
    "        print(\"E\")\n",
    "    else:\n",
    "        print(\"O\")\n",
    "else:\n",
    "    print(\"wrong input\") "
   ]
  },
  {
   "cell_type": "code",
   "execution_count": 67,
   "id": "f2f5e909-83d1-4777-8b43-8f3d953d1d9b",
   "metadata": {},
   "outputs": [
    {
     "name": "stdin",
     "output_type": "stream",
     "text": [
      " 15\n"
     ]
    },
    {
     "name": "stdout",
     "output_type": "stream",
     "text": [
      "1504.8\n"
     ]
    }
   ],
   "source": [
    "c = int(input())\n",
    "t=120*c\n",
    "if c<10:\n",
    "    print(t + 0.18*(t))\n",
    "if c<20:\n",
    "    d=t*0.2\n",
    "    print(t-d + 0.18*(d))"
   ]
  },
  {
   "cell_type": "markdown",
   "id": "2f1b3c7c-4b76-4ece-a94a-25ded30f652e",
   "metadata": {},
   "source": [
    "## Loops"
   ]
  },
  {
   "cell_type": "code",
   "execution_count": null,
   "id": "970141a0-dfa8-427f-86fd-86298ad0ad6a",
   "metadata": {},
   "outputs": [],
   "source": []
  },
  {
   "cell_type": "code",
   "execution_count": 75,
   "id": "ae6e0f12-78c6-4cb8-a6c3-a978da18f6ed",
   "metadata": {},
   "outputs": [
    {
     "data": {
      "text/plain": [
       "[1, 2, 3, 4, 5, 6, 7, 8, 9]"
      ]
     },
     "execution_count": 75,
     "metadata": {},
     "output_type": "execute_result"
    }
   ],
   "source": [
    "list(range(1,10,1))"
   ]
  },
  {
   "cell_type": "code",
   "execution_count": 99,
   "id": "5d8dfcae-9dcb-47b3-b4bf-61bdc633ba23",
   "metadata": {},
   "outputs": [
    {
     "name": "stdout",
     "output_type": "stream",
     "text": [
      "*\n",
      "**\n",
      "***\n",
      "****\n"
     ]
    }
   ],
   "source": [
    "for i in range(1,5):\n",
    "    print(\"*\"*i)"
   ]
  },
  {
   "cell_type": "code",
   "execution_count": 97,
   "id": "9f95257e-e0be-4b29-aafb-4f673c8da382",
   "metadata": {},
   "outputs": [
    {
     "name": "stdout",
     "output_type": "stream",
     "text": [
      "simit\n",
      "simit\n",
      "simit\n",
      "simit\n",
      "simit\n"
     ]
    }
   ],
   "source": [
    "for i in range(5):\n",
    "    print(\"simit\")"
   ]
  },
  {
   "cell_type": "code",
   "execution_count": 101,
   "id": "49aa3c64-de83-47bc-b1aa-1371364202a8",
   "metadata": {},
   "outputs": [],
   "source": [
    "l=[1,2,3,4,5]"
   ]
  },
  {
   "cell_type": "code",
   "execution_count": 105,
   "id": "9a603b29-8bd7-4a28-a7dd-c02fa2907f9a",
   "metadata": {},
   "outputs": [
    {
     "ename": "TypeError",
     "evalue": "unsupported operand type(s) for ** or pow(): 'list' and 'int'",
     "output_type": "error",
     "traceback": [
      "\u001b[1;31m---------------------------------------------------------------------------\u001b[0m",
      "\u001b[1;31mTypeError\u001b[0m                                 Traceback (most recent call last)",
      "Cell \u001b[1;32mIn[105], line 2\u001b[0m\n\u001b[0;32m      1\u001b[0m \u001b[38;5;28;01mfor\u001b[39;00m i \u001b[38;5;129;01min\u001b[39;00m l:\n\u001b[1;32m----> 2\u001b[0m     \u001b[38;5;28mprint\u001b[39m(l\u001b[38;5;241m*\u001b[39m\u001b[38;5;241m*\u001b[39m\u001b[38;5;241m2\u001b[39m)\n",
      "\u001b[1;31mTypeError\u001b[0m: unsupported operand type(s) for ** or pow(): 'list' and 'int'"
     ]
    }
   ],
   "source": [
    "for i in l:\n",
    "    print(l**2)"
   ]
  },
  {
   "cell_type": "code",
   "execution_count": 9,
   "id": "8e303ceb-55a3-43bc-9c8c-28abb6c6ee66",
   "metadata": {},
   "outputs": [
    {
     "name": "stdin",
     "output_type": "stream",
     "text": [
      " 350\n"
     ]
    },
    {
     "name": "stdout",
     "output_type": "stream",
     "text": [
      "the charge is:  2000\n"
     ]
    }
   ],
   "source": [
    "a=int(input())\n",
    "if a<=100:\n",
    "    print(\"No charge\")\n",
    "elif a>100 and a<=200:\n",
    "\n",
    "    print (\"the charge is : \", (a-100)*5)\n",
    "else:\n",
    "    print (\"the charge is: \",0+500+(a-200)*10)"
   ]
  },
  {
   "cell_type": "code",
   "execution_count": 15,
   "id": "d66fb183-9273-4d6a-a5ef-325b70e2444c",
   "metadata": {},
   "outputs": [],
   "source": [
    "l=[1,2,4,8,5,69,7,8]\n",
    "l1=[]\n",
    "for i in l:\n",
    "    if i%2==0:\n",
    "        l1.append(i)"
   ]
  },
  {
   "cell_type": "code",
   "execution_count": 16,
   "id": "19def8af-08b2-4061-9061-477f88c0da4b",
   "metadata": {},
   "outputs": [
    {
     "data": {
      "text/plain": [
       "[2, 4, 8, 8]"
      ]
     },
     "execution_count": 16,
     "metadata": {},
     "output_type": "execute_result"
    }
   ],
   "source": [
    "l1"
   ]
  },
  {
   "cell_type": "code",
   "execution_count": 18,
   "id": "42c5849e-7f5e-4ba0-bccc-9761f168b215",
   "metadata": {},
   "outputs": [
    {
     "name": "stdout",
     "output_type": "stream",
     "text": [
      "*\n",
      "**\n",
      "***\n",
      "****\n"
     ]
    }
   ],
   "source": [
    "for i in range(1,5):\n",
    "    print(\"*\"*i)"
   ]
  },
  {
   "cell_type": "code",
   "execution_count": 19,
   "id": "4d65dc41-0d57-4de8-ac4a-c7e541133104",
   "metadata": {},
   "outputs": [
    {
     "name": "stdout",
     "output_type": "stream",
     "text": [
      "****\n",
      "***\n",
      "**\n",
      "*\n"
     ]
    }
   ],
   "source": [
    "for i in range(1,5):\n",
    "    print(\"*\"*(5-i))"
   ]
  },
  {
   "cell_type": "code",
   "execution_count": 23,
   "id": "57210d35-862e-443c-9153-b8eec696f5db",
   "metadata": {},
   "outputs": [
    {
     "name": "stdout",
     "output_type": "stream",
     "text": [
      "*\n",
      "**\n",
      "***\n",
      "**\n",
      "***\n"
     ]
    }
   ],
   "source": [
    "for i in range(1,6):\n",
    "    if i<=3:\n",
    "        print (\"*\"*i)\n",
    "    else:\n",
    "        print(\"*\"*(i-2))"
   ]
  },
  {
   "cell_type": "code",
   "execution_count": 43,
   "id": "b5308e8e-acb9-44fc-8153-f3e28fbfa4c2",
   "metadata": {},
   "outputs": [
    {
     "name": "stdout",
     "output_type": "stream",
     "text": [
      "A\n",
      "BB\n",
      "CCC\n",
      "DDDD\n"
     ]
    }
   ],
   "source": [
    "n=4\n",
    "for i in range(1,n+1):\n",
    "    a=chr((16*n)+i)\n",
    "    print(a*i)\n"
   ]
  },
  {
   "cell_type": "markdown",
   "id": "17f64443-f2e7-41e5-90bf-60a8f9ab80b7",
   "metadata": {},
   "source": [
    "## DID ON MY OWN BRO"
   ]
  },
  {
   "cell_type": "code",
   "execution_count": 55,
   "id": "e670d770-a406-4de8-9a79-83ffce8b7d61",
   "metadata": {},
   "outputs": [
    {
     "name": "stdout",
     "output_type": "stream",
     "text": [
      "A \n",
      "B B \n",
      "C C C \n",
      "D D D D \n"
     ]
    }
   ],
   "source": [
    "n=4\n",
    "for j in range(1,n+1):\n",
    "    print (((chr(64+i))+\" \")*i)"
   ]
  },
  {
   "cell_type": "code",
   "execution_count": 31,
   "id": "2d21e627-443b-4f62-8a03-23a69f116f9f",
   "metadata": {},
   "outputs": [
    {
     "name": "stdout",
     "output_type": "stream",
     "text": [
      "A \n",
      "A B \n",
      "A B C \n",
      "A B C D \n"
     ]
    }
   ],
   "source": [
    "n=4\n",
    "for i in range(1,n+1):\n",
    "    for j in range(1,i+1):\n",
    "        print (chr(64+j),end=\" \")\n",
    "    print()"
   ]
  },
  {
   "cell_type": "code",
   "execution_count": null,
   "id": "ecc5e49b-93e7-4152-9772-1afad47151bf",
   "metadata": {},
   "outputs": [],
   "source": [
    "l=[1,2,3,4,5,6]\n",
    "l1=[]\n",
    "\n",
    "i in l:\n",
    "\n",
    "\n",
    "    if i%2==0:\n",
    "        l1.append(i)"
   ]
  },
  {
   "cell_type": "code",
   "execution_count": null,
   "id": "c3dbd344-16db-4ab4-a8d7-2364440d4cdf",
   "metadata": {},
   "outputs": [],
   "source": [
    "l1"
   ]
  },
  {
   "cell_type": "code",
   "execution_count": 1,
   "id": "87a108d7-3d61-4d5c-945c-46e6274be306",
   "metadata": {},
   "outputs": [],
   "source": [
    "## again doing it"
   ]
  },
  {
   "cell_type": "code",
   "execution_count": 7,
   "id": "026bd23b-95f3-4477-9d1d-56e173b13a6f",
   "metadata": {},
   "outputs": [
    {
     "name": "stdout",
     "output_type": "stream",
     "text": [
      "A \n",
      "B B \n",
      "C C C \n",
      "D D D D \n"
     ]
    }
   ],
   "source": [
    "n=4\n",
    "for i in range(1,n+1):\n",
    "    for j in range(1,i+1):\n",
    "        print(chr(64+i), end=\" \")\n",
    "    print()\n",
    "    \n"
   ]
  },
  {
   "cell_type": "code",
   "execution_count": 8,
   "id": "9bf888a0-d6ab-4547-8cf0-a913ba73612f",
   "metadata": {},
   "outputs": [
    {
     "name": "stdout",
     "output_type": "stream",
     "text": [
      "[1, 2]\n",
      "[3, 4]\n",
      "[5, 6]\n"
     ]
    }
   ],
   "source": [
    "l=[[1,2],[3,4],[5,6]]\n",
    "for i in l:\n",
    "    print(i)"
   ]
  },
  {
   "cell_type": "code",
   "execution_count": 10,
   "id": "ad87bdba-90cc-4fff-9da8-87ed12ff1aa4",
   "metadata": {},
   "outputs": [
    {
     "name": "stdout",
     "output_type": "stream",
     "text": [
      "1 2\n",
      "3 4\n",
      "5 6\n"
     ]
    }
   ],
   "source": [
    "l=[[1,2],[3,4],[5,6]]\n",
    "for i,j in l:\n",
    "    print(i,j)\n"
   ]
  },
  {
   "cell_type": "code",
   "execution_count": 12,
   "id": "c9df257e-5d35-44cd-8681-f55a5e1bd361",
   "metadata": {},
   "outputs": [
    {
     "name": "stdout",
     "output_type": "stream",
     "text": [
      "2\n",
      "4\n",
      "6\n"
     ]
    }
   ],
   "source": [
    "l=[[1,2],[3,4],[5,6]]\n",
    "for i,j in l:\n",
    "    print(j)\n"
   ]
  },
  {
   "cell_type": "code",
   "execution_count": 13,
   "id": "114f4ebd-d1bb-498e-81d2-42b1c1d55dd1",
   "metadata": {},
   "outputs": [
    {
     "name": "stdout",
     "output_type": "stream",
     "text": [
      "1\n",
      "3\n",
      "5\n"
     ]
    }
   ],
   "source": [
    "l=[[1,2],[3,4],[5,6]]\n",
    "for i,j in l:\n",
    "    print(i)"
   ]
  },
  {
   "cell_type": "code",
   "execution_count": 19,
   "id": "48005ee8-6fb6-4784-af72-4448dc1ca8a2",
   "metadata": {},
   "outputs": [],
   "source": [
    "d={'a':[1,2,3] , 'b':[4,5,6], 'c':[7,8,9], 'e':[10,11,12] }"
   ]
  },
  {
   "cell_type": "code",
   "execution_count": 42,
   "id": "a4f2d826-2c29-4adb-974c-48e0bc5599a9",
   "metadata": {},
   "outputs": [
    {
     "name": "stdout",
     "output_type": "stream",
     "text": [
      "6\n",
      "33\n"
     ]
    }
   ],
   "source": [
    "for i,j in d.items():\n",
    "    if i in 'aeiou':\n",
    "        \n",
    "        print(sum (j))\n",
    "\n",
    "\n",
    "        "
   ]
  },
  {
   "cell_type": "code",
   "execution_count": 63,
   "id": "c5aead0e-e17a-4b8f-bbe9-a340d8ad5b9c",
   "metadata": {},
   "outputs": [
    {
     "name": "stdout",
     "output_type": "stream",
     "text": [
      "1\n",
      "2\n"
     ]
    }
   ],
   "source": [
    "d={'a':[1,2,3] , 'b':[4,5,6], 'c':[7,8,9], 'e':[10,11,12] }\n",
    "for k,v in d.items():\n",
    "    if k in 'aeiou':\n",
    "        c=0\n",
    "        for i in v:\n",
    "            if i%2==0:\n",
    "                c=c+1\n",
    "            else:\n",
    "                pass\n",
    "        print(c)\n",
    "             "
   ]
  },
  {
   "cell_type": "code",
   "execution_count": 106,
   "id": "6aba51e1-c21c-4d47-a147-2d375b9e090a",
   "metadata": {},
   "outputs": [
    {
     "name": "stdout",
     "output_type": "stream",
     "text": [
      "[]\n",
      "[]\n",
      "[]\n",
      "[]\n"
     ]
    }
   ],
   "source": [
    "d={'Shobhit':{'maths':42,'science':30, 'Hindi':10},\n",
    "   'Rashmi':{'maths':45,'science':40, 'Hindi':43},\n",
    "   'Keshav':{'maths':40,'science':35, 'Hindi':19},\n",
    "   'Shruti':{'maths':20,'science':40, 'Hindi':18}}\n",
    "\n",
    "\n",
    "\n",
    "## Find average of each subject\n",
    "for i,j in d.items():\n",
    "    m=[]\n",
    "    s=[]\n",
    "    h=[]\n",
    "    for k,l in j.items():\n",
    "        if k== 'maths':\n",
    "            m.append(l)\n",
    "        elif k== 'science':\n",
    "            s.append(l)\n",
    "        elif k== 'Hindi':\n",
    "            h.append(l)\n",
    "    print(m)\n",
    "    m.append\n",
    "        \n",
    "         \n",
    "        "
   ]
  },
  {
   "cell_type": "code",
   "execution_count": 99,
   "id": "6885cd40-78de-4794-9437-be93f2ab0d82",
   "metadata": {},
   "outputs": [
    {
     "data": {
      "text/plain": [
       "[20]"
      ]
     },
     "execution_count": 99,
     "metadata": {},
     "output_type": "execute_result"
    }
   ],
   "source": [
    "m"
   ]
  },
  {
   "cell_type": "code",
   "execution_count": 107,
   "id": "84263c95-3d26-4590-9db6-5aca4b6bd12c",
   "metadata": {},
   "outputs": [],
   "source": [
    "l=[1,2,1,2,3,4,5,2,1,4,1,2,3,5,4,3]\n",
    "d={}\n",
    "for i in l:\n",
    "    if i in d.keys():\n",
    "        d[i]=d[i]+1\n",
    "    else:\n",
    "        d[i]=1\n",
    "        "
   ]
  },
  {
   "cell_type": "code",
   "execution_count": 108,
   "id": "74cee747-9086-4fae-8ec5-1bfa83e0fe56",
   "metadata": {},
   "outputs": [
    {
     "data": {
      "text/plain": [
       "{1: 4, 2: 4, 3: 3, 4: 3, 5: 2}"
      ]
     },
     "execution_count": 108,
     "metadata": {},
     "output_type": "execute_result"
    }
   ],
   "source": [
    "d"
   ]
  },
  {
   "cell_type": "code",
   "execution_count": 114,
   "id": "e197f3bb-a9d2-4da3-9d04-272a5312afde",
   "metadata": {},
   "outputs": [],
   "source": [
    "def even_list(l):\n",
    "    l1=[]\n",
    "    for i in l:\n",
    "        if i%2==0:\n",
    "            l1.append(i)\n",
    "    return l1\n",
    "    \n",
    "   \n",
    "\n"
   ]
  },
  {
   "cell_type": "code",
   "execution_count": 115,
   "id": "22523bd3-6b7d-4c01-bf38-f5c95531cf84",
   "metadata": {},
   "outputs": [
    {
     "data": {
      "text/plain": [
       "[2, 4, 6, 8]"
      ]
     },
     "execution_count": 115,
     "metadata": {},
     "output_type": "execute_result"
    }
   ],
   "source": [
    "even_list([1,2,3,4,5,6,7,8,9])"
   ]
  },
  {
   "cell_type": "code",
   "execution_count": 120,
   "id": "1fdd5390-fc0c-4bd3-b931-cbf5f911110b",
   "metadata": {},
   "outputs": [],
   "source": [
    "d={'a':1, 'b':2, 'c':4, 'd':5}\n",
    "def avg_dict(d):\n",
    "    s=0\n",
    "    for i,j in d.items():\n",
    "        s=s+j\n",
    "    return s/len(d)"
   ]
  },
  {
   "cell_type": "code",
   "execution_count": 123,
   "id": "c2175329-f89c-43d7-984e-041344ca6765",
   "metadata": {},
   "outputs": [
    {
     "data": {
      "text/plain": [
       "3.0"
      ]
     },
     "execution_count": 123,
     "metadata": {},
     "output_type": "execute_result"
    }
   ],
   "source": [
    "avg_dict(d)"
   ]
  },
  {
   "cell_type": "code",
   "execution_count": 127,
   "id": "6f308b2d-14a0-44f4-a9bc-4662d3de623a",
   "metadata": {},
   "outputs": [
    {
     "ename": "IndentationError",
     "evalue": "expected an indented block after 'if' statement on line 2 (4046367443.py, line 3)",
     "output_type": "error",
     "traceback": [
      "\u001b[1;36m  Cell \u001b[1;32mIn[127], line 3\u001b[1;36m\u001b[0m\n\u001b[1;33m    m=(len(l)/2)-1\u001b[0m\n\u001b[1;37m    ^\u001b[0m\n\u001b[1;31mIndentationError\u001b[0m\u001b[1;31m:\u001b[0m expected an indented block after 'if' statement on line 2\n"
     ]
    }
   ],
   "source": [
    "l=[a,b,c,d,e,f]\n",
    "if l is odd:\n",
    "m=char((len(l)/2)-1\n",
    "print(m)\n"
   ]
  },
  {
   "cell_type": "code",
   "execution_count": 128,
   "id": "3fc1cff5-7b9d-4c24-a236-04f6de357646",
   "metadata": {},
   "outputs": [
    {
     "data": {
      "text/plain": [
       "2"
      ]
     },
     "execution_count": 128,
     "metadata": {},
     "output_type": "execute_result"
    }
   ],
   "source": [
    "5//2\n"
   ]
  },
  {
   "cell_type": "code",
   "execution_count": 129,
   "id": "c13ea873-08a2-4bc7-9524-b230362659d0",
   "metadata": {},
   "outputs": [
    {
     "data": {
      "text/plain": [
       "2"
      ]
     },
     "execution_count": 129,
     "metadata": {},
     "output_type": "execute_result"
    }
   ],
   "source": [
    "round(5/2)"
   ]
  },
  {
   "cell_type": "code",
   "execution_count": 18,
   "id": "52b80553-d016-48a9-a429-58a265063b14",
   "metadata": {},
   "outputs": [],
   "source": [
    "x=[1,3,5,7,9]\n",
    "y=[2,4,6,8,10]\n",
    "z=[]\n",
    "for i in range(0,5):\n",
    "    z.append(x[i]+y[i])\n",
    "    "
   ]
  },
  {
   "cell_type": "code",
   "execution_count": 19,
   "id": "4a9ec470-0c9b-4060-be0b-3c94e6a14557",
   "metadata": {},
   "outputs": [
    {
     "data": {
      "text/plain": [
       "[3, 7, 11, 15, 19]"
      ]
     },
     "execution_count": 19,
     "metadata": {},
     "output_type": "execute_result"
    }
   ],
   "source": [
    "z"
   ]
  },
  {
   "cell_type": "code",
   "execution_count": 8,
   "id": "59b94ebf-0c93-4ddb-945f-c1b7016efd08",
   "metadata": {},
   "outputs": [],
   "source": [
    "l=['a','d','e','x','d','t','t','x','d','a']\n",
    "d={}\n",
    "for i in l:\n",
    "    if i in d.keys():\n",
    "        d[i]=d[i]+1\n",
    "    else:\n",
    "        d[i]=1"
   ]
  },
  {
   "cell_type": "code",
   "execution_count": 9,
   "id": "c18bc480-1730-4623-a3b6-9da0c06b00ac",
   "metadata": {},
   "outputs": [
    {
     "data": {
      "text/plain": [
       "{'a': 2, 'd': 3, 'e': 1, 'x': 2, 't': 2}"
      ]
     },
     "execution_count": 9,
     "metadata": {},
     "output_type": "execute_result"
    }
   ],
   "source": [
    "d"
   ]
  },
  {
   "cell_type": "code",
   "execution_count": 28,
   "id": "30413380-a502-40bf-9838-171b53d6f151",
   "metadata": {},
   "outputs": [],
   "source": [
    "a=['p','q']\n",
    "l=[]\n",
    "for j in range(1,6):\n",
    "    for i in a:\n",
    "    \n",
    "        l.append(i+str(j))\n",
    "\n",
    "    "
   ]
  },
  {
   "cell_type": "code",
   "execution_count": 29,
   "id": "91330062-6fb7-4e23-ab09-db25b12aff4e",
   "metadata": {},
   "outputs": [
    {
     "data": {
      "text/plain": [
       "['p1', 'q1', 'p2', 'q2', 'p3', 'q3', 'p4', 'q4', 'p5', 'q5']"
      ]
     },
     "execution_count": 29,
     "metadata": {},
     "output_type": "execute_result"
    }
   ],
   "source": [
    "l"
   ]
  },
  {
   "cell_type": "code",
   "execution_count": null,
   "id": "ce9ac0f1-ebcc-49a4-bc9e-60dddc4e544f",
   "metadata": {},
   "outputs": [],
   "source": []
  }
 ],
 "metadata": {
  "kernelspec": {
   "display_name": "Python 3 (ipykernel)",
   "language": "python",
   "name": "python3"
  },
  "language_info": {
   "codemirror_mode": {
    "name": "ipython",
    "version": 3
   },
   "file_extension": ".py",
   "mimetype": "text/x-python",
   "name": "python",
   "nbconvert_exporter": "python",
   "pygments_lexer": "ipython3",
   "version": "3.12.4"
  }
 },
 "nbformat": 4,
 "nbformat_minor": 5
}
